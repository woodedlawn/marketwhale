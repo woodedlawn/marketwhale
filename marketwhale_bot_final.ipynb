{
 "cells": [
  {
   "cell_type": "markdown",
   "id": "61395851",
   "metadata": {},
   "source": [
    "# Marketwhale\n",
    "\n",
    "* Our company is focused on researching and creating accurate trading algorithms for crypto currency using machine learning."
   ]
  },
  {
   "cell_type": "code",
   "execution_count": null,
   "id": "1e9c024d",
   "metadata": {},
   "outputs": [],
   "source": [
    "# Initial imports\n",
    "import os\n",
    "import requests\n",
    "import json\n",
    "import yfinance as yf\n",
    "import pandas as pd\n",
    "from pandas.tseries.offsets import DateOffset\n",
    "import numpy as np\n",
    "from dotenv import load_dotenv\n",
    "from pathlib import Path\n",
    "import hvplot.pandas\n",
    "from finta import TA\n",
    "from sklearn.preprocessing import StandardScaler\n",
    "from sklearn import svm\n",
    "from sklearn.metrics import classification_report\n",
    "from tensorflow.keras.models import Sequential\n",
    "from tensorflow.keras.layers import Dense, LSTM, Flatten, Conv1D, Conv2D, MaxPooling1D, MaxPooling2D\n",
    "from tensorflow.keras.optimizers import Adam, schedules, SGD\n",
    "from tensorflow.keras.models import model_from_json\n",
    "from finta import TA\n",
    "from datetime import datetime\n",
    "import math\n",
    "import holoviews as hv\n",
    "\n",
    "%matplotlib inline"
   ]
  },
  {
   "cell_type": "markdown",
   "id": "acb08f39",
   "metadata": {},
   "source": [
    "# Part 1: Algorithmic Trading- SVM Model \n",
    "### Completed by Rodrigo Monge\n",
    "**  **"
   ]
  },
  {
   "cell_type": "code",
   "execution_count": null,
   "id": "862f843e",
   "metadata": {},
   "outputs": [],
   "source": [
    "# Load the environment variables from the .env file by calling the load_dotenv function\n",
    "load_dotenv()"
   ]
  },
  {
   "cell_type": "code",
   "execution_count": null,
   "id": "145a49d5",
   "metadata": {},
   "outputs": [],
   "source": [
    "# Free Crypto API Call endpoint URLs for the held cryptocurrency assets\n",
    "btc_url = \"https://api.alternative.me/v2/ticker/Bitcoin/?convert=USD\""
   ]
  },
  {
   "cell_type": "code",
   "execution_count": null,
   "id": "613fa935",
   "metadata": {},
   "outputs": [],
   "source": [
    "# Using the Python requests library, make an API call to access the current price of BTC\n",
    "btc_response = requests.get(btc_url).json()\n",
    "\n",
    "# json.dumps function to review the response data from the API call\n",
    "# Indent and sort_keys parameters to make the response object readable\n",
    "print(json.dumps(\n",
    "    btc_response,\n",
    "    indent=4,\n",
    "    sort_keys=True)\n",
    ")"
   ]
  },
  {
   "cell_type": "code",
   "execution_count": null,
   "id": "415bdf45",
   "metadata": {},
   "outputs": [],
   "source": [
    "# Navigate the BTC response object to access the current price of BTC\n",
    "btc_price = btc_response[\"data\"]['1'][\"quotes\"][\"USD\"][\"price\"]\n",
    "\n",
    "# Print the current price of BTC\n",
    "print(f\"The current price for Bitcoin is ${btc_price:,}\")\n"
   ]
  },
  {
   "cell_type": "code",
   "execution_count": null,
   "id": "71af6de1",
   "metadata": {},
   "outputs": [],
   "source": [
    "# Use yfinance to retrieve BTC close values (note that with the current API 1m data can only be done for 7 days, and 1 hour only for 730 days)\n",
    "start = \"2020-10-30\"\n",
    "end = \"2021-10-14\""
   ]
  },
  {
   "cell_type": "code",
   "execution_count": null,
   "id": "7c2ad740",
   "metadata": {},
   "outputs": [],
   "source": [
    "# Use yfinance to retrieve BTC (hourly data)\n",
    "btc_df = yf.download(\n",
    "    \"BTC-USD\",\n",
    "    start=start,\n",
    "    end=end,\n",
    "    interval=\"1h\"\n",
    ")\n",
    "\n",
    "btc_df= btc_df.rename(columns=str.lower)\n",
    "btc_df= btc_df.drop(['volume','adj close'], axis=1)\n",
    "btc_df"
   ]
  },
  {
   "cell_type": "code",
   "execution_count": null,
   "id": "b2461a97",
   "metadata": {},
   "outputs": [],
   "source": [
    "btc_df.loc[:,['close']].hvplot()"
   ]
  },
  {
   "cell_type": "code",
   "execution_count": 1,
   "id": "c3eb8de8",
   "metadata": {},
   "outputs": [
    {
     "ename": "NameError",
     "evalue": "name 'requests' is not defined",
     "output_type": "error",
     "traceback": [
      "\u001b[1;31m---------------------------------------------------------------------------\u001b[0m",
      "\u001b[1;31mNameError\u001b[0m                                 Traceback (most recent call last)",
      "\u001b[1;32m~\\AppData\\Local\\Temp/ipykernel_23260/1367761477.py\u001b[0m in \u001b[0;36m<module>\u001b[1;34m\u001b[0m\n\u001b[0;32m      2\u001b[0m \u001b[0mfear_and_greed_url\u001b[0m \u001b[1;33m=\u001b[0m \u001b[1;34m\"https://api.alternative.me/fng/?limit=350\"\u001b[0m\u001b[1;33m\u001b[0m\u001b[1;33m\u001b[0m\u001b[0m\n\u001b[0;32m      3\u001b[0m \u001b[1;33m\u001b[0m\u001b[0m\n\u001b[1;32m----> 4\u001b[1;33m \u001b[0mfear_and_greed_response\u001b[0m \u001b[1;33m=\u001b[0m \u001b[0mrequests\u001b[0m\u001b[1;33m.\u001b[0m\u001b[0mget\u001b[0m\u001b[1;33m(\u001b[0m\u001b[0mfear_and_greed_url\u001b[0m\u001b[1;33m)\u001b[0m\u001b[1;33m.\u001b[0m\u001b[0mjson\u001b[0m\u001b[1;33m(\u001b[0m\u001b[1;33m)\u001b[0m\u001b[1;33m\u001b[0m\u001b[1;33m\u001b[0m\u001b[0m\n\u001b[0m\u001b[0;32m      5\u001b[0m \u001b[1;33m\u001b[0m\u001b[0m\n\u001b[0;32m      6\u001b[0m \u001b[0mfear_greed_df\u001b[0m \u001b[1;33m=\u001b[0m \u001b[0mpd\u001b[0m\u001b[1;33m.\u001b[0m\u001b[0mDataFrame\u001b[0m\u001b[1;33m(\u001b[0m\u001b[0mfear_and_greed_response\u001b[0m\u001b[1;33m[\u001b[0m\u001b[1;34m\"data\"\u001b[0m\u001b[1;33m]\u001b[0m\u001b[1;33m)\u001b[0m\u001b[1;33m\u001b[0m\u001b[1;33m\u001b[0m\u001b[0m\n",
      "\u001b[1;31mNameError\u001b[0m: name 'requests' is not defined"
     ]
    }
   ],
   "source": [
    "# Using the Python requests library, make an API call to access the current fear and greed index (indicator of sentiment, used for volatility)\n",
    "fear_and_greed_url = \"https://api.alternative.me/fng/?limit=350\"\n",
    "\n",
    "fear_and_greed_response = requests.get(fear_and_greed_url).json()\n",
    "\n",
    "fear_greed_df = pd.DataFrame(fear_and_greed_response[\"data\"])\n",
    "\n",
    "fear_greed_df['timestamp'] = pd.to_datetime(fear_greed_df['timestamp'], unit='s')\n",
    "\n",
    "fear_greed_df = fear_greed_df.set_index('timestamp').drop(['time_until_update', 'value_classification'], axis=1)\n",
    "\n",
    "display(fear_greed_df)"
   ]
  },
  {
   "cell_type": "code",
   "execution_count": null,
   "id": "509fd78f",
   "metadata": {},
   "outputs": [],
   "source": [
    "# Merge the columns\n",
    "\n",
    "btc_df_new = btc_df.reset_index()\n",
    "btc_df_new['Dates'] = pd.to_datetime(btc_df_new['index']).dt.date\n",
    "btc_df_new['Time'] = pd.to_datetime(btc_df_new['index']).dt.time\n",
    "btc_df_new = btc_df_new.set_index(\"Dates\")\n",
    "btc_df_new = pd.merge(btc_df_new, fear_greed_df, left_index=True, right_index=True)\n",
    "btc_df_new = btc_df_new.reset_index()\n",
    "btc_df_new = btc_df_new.drop(['level_0', 'Time'], axis=1)\n",
    "btc_df_new = btc_df_new.set_index(\"index\")\n",
    "btc_df_new.rename({'value': 'fear_greed'}, axis=1, inplace=True)\n",
    "btc_df = btc_df_new\n",
    "\n",
    "display(btc_df)"
   ]
  },
  {
   "cell_type": "code",
   "execution_count": null,
   "id": "b3c66753",
   "metadata": {},
   "outputs": [],
   "source": [
    "# We add SMA to our data, long and short to be verified\n",
    "\n",
    "sma_short = 20\n",
    "sma_long = 100\n",
    "\n",
    "SMA20 = TA.SMA(btc_df, sma_short)\n",
    "SMA100 = TA.SMA(btc_df, sma_long)\n",
    "\n",
    "btc_df[\"SMA20\"]=SMA20\n",
    "btc_df[\"SMA100\"]=SMA100\n",
    "\n",
    "btc_df"
   ]
  },
  {
   "cell_type": "code",
   "execution_count": null,
   "id": "1e61a6eb",
   "metadata": {},
   "outputs": [],
   "source": [
    "# Create a column to hold the trading signal\n",
    "btc_df[\"SMA Signal\"] = 0.0\n",
    "\n",
    "# Generate the trading signal 0 or 1,\n",
    "# where 1 is the short-window (SMA20) greater than the long-window (SMA100)\n",
    "# and 0 is when the condition is not met\n",
    "btc_df['SMA Signal'] = np.where((btc_df['SMA20'] < btc_df['SMA100']),\n",
    "                            1.0, 0.0)\n",
    "# Review the DataFrame\n",
    "btc_df"
   ]
  },
  {
   "cell_type": "code",
   "execution_count": null,
   "id": "d3cc61f9",
   "metadata": {},
   "outputs": [],
   "source": [
    "# Calculate the points in time when the Signal value changes\n",
    "# Identify trade entry (1) and exit (-1) points\n",
    "btc_df[\"SMA Entry/Exit\"] = btc_df[\"SMA Signal\"].diff()\n",
    "\n",
    "# Review the DataFrame\n",
    "btc_df"
   ]
  },
  {
   "cell_type": "code",
   "execution_count": null,
   "id": "38e564b8",
   "metadata": {},
   "outputs": [],
   "source": [
    "# Visualize moving averages\n",
    "moving_avgs = btc_df[['SMA20', 'SMA100', 'close']].hvplot(\n",
    "    ylabel='Price in $',\n",
    "    width=1000,\n",
    "    height=400)\n",
    "\n",
    "# Show the plot\n",
    "moving_avgs"
   ]
  },
  {
   "cell_type": "code",
   "execution_count": null,
   "id": "0b5e3411",
   "metadata": {},
   "outputs": [],
   "source": [
    "# Visualize exit position relative to close price\n",
    "exit = btc_df[btc_df['SMA Entry/Exit'] == -1.0]['close'].hvplot.scatter(\n",
    "    color='blue',\n",
    "    marker='v',\n",
    "    legend=False,\n",
    "    ylabel='Price in $',\n",
    "    width=1000,\n",
    "    height=400)\n"
   ]
  },
  {
   "cell_type": "code",
   "execution_count": null,
   "id": "fd2e848c",
   "metadata": {},
   "outputs": [],
   "source": [
    "# Visualize entry position relative to close price\n",
    "entry = btc_df[btc_df['SMA Entry/Exit'] == 1.0]['close'].hvplot.scatter(\n",
    "    color='limegreen',\n",
    "     marker='^',\n",
    "    legend=False,\n",
    "    ylabel='Price in $',\n",
    "    width=1000,\n",
    "    height=400)"
   ]
  },
  {
   "cell_type": "code",
   "execution_count": null,
   "id": "911c8bc3",
   "metadata": {},
   "outputs": [],
   "source": [
    "# Visualize close price for the investment\n",
    "security_close = btc_df[['close']].hvplot(\n",
    "    line_color='lightgray',\n",
    "    ylabel='Price in $',\n",
    "    width=1000,\n",
    "    height=400)"
   ]
  },
  {
   "cell_type": "code",
   "execution_count": null,
   "id": "a66e19a4",
   "metadata": {},
   "outputs": [],
   "source": [
    "# Visualize moving averages\n",
    "moving_avgs = btc_df[['SMA20', 'SMA100']].hvplot(\n",
    "    ylabel='Price in $',\n",
    "    width=1000,\n",
    "    height=400)"
   ]
  },
  {
   "cell_type": "code",
   "execution_count": null,
   "id": "6110c086",
   "metadata": {},
   "outputs": [],
   "source": [
    "# Create the overlay plot\n",
    "entry_exit_plot = security_close * moving_avgs * entry * exit\n",
    "\n",
    "# Show the plot\n",
    "entry_exit_plot.opts(\n",
    "    title=\"BTC - SMA20, SMA100, Entry and Exit Points\"\n",
    ")"
   ]
  },
  {
   "cell_type": "code",
   "execution_count": null,
   "id": "8be3be1e",
   "metadata": {},
   "outputs": [],
   "source": [
    "# We add Bollinger Bands Width to our data\n",
    "\n",
    "BBWIDTH = TA.BBWIDTH(btc_df)\n",
    "\n",
    "btc_df[\"BBWIDTH\"]=BBWIDTH\n",
    "btc_df"
   ]
  },
  {
   "cell_type": "code",
   "execution_count": null,
   "id": "cdf14c00",
   "metadata": {},
   "outputs": [],
   "source": [
    "# We add WMA to our data\n",
    "\n",
    "WMA = TA.WMA(btc_df)\n",
    "\n",
    "btc_df[\"WMA\"]=WMA\n",
    "btc_df"
   ]
  },
  {
   "cell_type": "code",
   "execution_count": null,
   "id": "3591d693",
   "metadata": {},
   "outputs": [],
   "source": [
    "# Calculate the daily returns using the closing prices and the pct_change function\n",
    "btc_df[\"actual_returns\"] = btc_df[\"close\"].pct_change()\n",
    "btc_df = btc_df.dropna()\n",
    "\n",
    "# Display sample data\n",
    "btc_df"
   ]
  },
  {
   "cell_type": "code",
   "execution_count": null,
   "id": "027c0927",
   "metadata": {},
   "outputs": [],
   "source": [
    "# Create a new column for actual returns signals\n",
    "btc_df['actual returns signal'] = 0.0\n",
    "\n",
    "# Create the signal to buy\n",
    "btc_df['actual returns signal'] = np.where((btc_df['actual_returns'] < 0),\n",
    "                            -1.0, 1.0)\n",
    "\n",
    "btc_df"
   ]
  },
  {
   "cell_type": "code",
   "execution_count": null,
   "id": "97ba8497",
   "metadata": {},
   "outputs": [],
   "source": [
    "# Calculate the points in time when the Signal value changes\n",
    "# Identify trade entry (1) and exit (-1) points\n",
    "btc_df[\"actual returns Entry/Exit\"] = btc_df[\"actual returns signal\"].diff()\n",
    "\n",
    "# Review the DataFrame\n",
    "btc_df"
   ]
  },
  {
   "cell_type": "code",
   "execution_count": null,
   "id": "828afa40",
   "metadata": {},
   "outputs": [],
   "source": [
    "# Assign a copy of the `sma_fast` and `sma_slow` columns to a new DataFrame called `X`\n",
    "X_btc = btc_df[['close','fear_greed','WMA','BBWIDTH','SMA20','SMA100',\"WMA\"]].shift().dropna().copy()\n",
    "\n",
    "# Display sample data\n",
    "display(X_btc.head())\n",
    "display(X_btc.tail())"
   ]
  },
  {
   "cell_type": "code",
   "execution_count": null,
   "id": "d81fd219",
   "metadata": {},
   "outputs": [],
   "source": [
    "# Copy the new \"signal\" column to a new Series called `y`.\n",
    "\n",
    "y_btc = btc_df['actual returns signal'].dropna().copy()\n",
    "\n",
    "display(y_btc.head())\n",
    "display(y_btc.tail())"
   ]
  },
  {
   "cell_type": "code",
   "execution_count": null,
   "id": "b025dae8",
   "metadata": {},
   "outputs": [],
   "source": [
    "# Select the start of the training period\n",
    "training_begin = X_btc.index.min()\n",
    "\n",
    "# Display the training begin date\n",
    "print(training_begin)\n",
    "\n",
    "# Select the ending period for the training data with an offset of 7 months\n",
    "training_end = X_btc.index.min() + DateOffset(months=7)\n",
    "\n",
    "# Display the training end date\n",
    "print(training_end)"
   ]
  },
  {
   "cell_type": "code",
   "execution_count": null,
   "id": "f8f9fc7a",
   "metadata": {},
   "outputs": [],
   "source": [
    "# Generate the X_train and y_train DataFrames\n",
    "X_btc_train = X_btc.loc[training_begin:training_end]\n",
    "y_btc_train = y_btc.loc[training_begin:training_end]\n",
    "\n",
    "# Display sample data\n",
    "display(X_btc_train.head())\n",
    "display(y_btc_train.head())"
   ]
  },
  {
   "cell_type": "code",
   "execution_count": null,
   "id": "9a31240d",
   "metadata": {},
   "outputs": [],
   "source": [
    "# Generate the X_test and y_test DataFrames\n",
    "X_btc_test = X_btc.loc[training_end:]\n",
    "y_btc_test = y_btc.loc[training_end:]\n",
    "\n",
    "# Display sample data\n",
    "display(X_btc_test.head())\n",
    "display(y_btc_test.head())"
   ]
  },
  {
   "cell_type": "code",
   "execution_count": null,
   "id": "a2f71303",
   "metadata": {},
   "outputs": [],
   "source": [
    "# Create a StandardScaler instance\n",
    "scaler = StandardScaler()\n",
    "\n",
    "# Apply the scaler model to fit the X_train data\n",
    "X_btc_scaler = scaler.fit(X_btc_train)\n",
    "\n",
    "# Transform the X_train and X_test DataFrames using the X_scaler\n",
    "X_btc_train_scaled = X_btc_scaler.transform(X_btc_train)\n",
    "X_btc_test_scaled = X_btc_scaler.transform(X_btc_test)"
   ]
  },
  {
   "cell_type": "code",
   "execution_count": null,
   "id": "d2a4ef63",
   "metadata": {},
   "outputs": [],
   "source": [
    "# Create the classifier model\n",
    "svm_model = svm.SVC()\n",
    "\n",
    "# Fit the model to the data using X_train_scaled and y_train\n",
    "svm_model = svm_model.fit(X_btc_train_scaled, y_btc_train)\n",
    "\n",
    "# Use the trained model to predict the trading signals for the training data\n",
    "training_signal_predictions = svm_model.predict(X_btc_train_scaled)\n",
    "\n",
    "# Display the sample predictions\n",
    "training_signal_predictions[:10]"
   ]
  },
  {
   "cell_type": "code",
   "execution_count": null,
   "id": "21882159",
   "metadata": {},
   "outputs": [],
   "source": [
    "# Evaluate the model using a classification report\n",
    "training_report = classification_report(y_btc_train, training_signal_predictions)\n",
    "print(training_report)"
   ]
  },
  {
   "cell_type": "code",
   "execution_count": null,
   "id": "10493979",
   "metadata": {},
   "outputs": [],
   "source": [
    "# Use the trained model to predict the trading signals for the testing data.\n",
    "testing_signal_predictions = svm_model.predict(X_btc_test_scaled)"
   ]
  },
  {
   "cell_type": "code",
   "execution_count": null,
   "id": "e1e5a4d2",
   "metadata": {},
   "outputs": [],
   "source": [
    "# Evaluate the model's ability to predict the trading signal for the testing data\n",
    "testing_report = classification_report(y_btc_test, testing_signal_predictions)\n",
    "print(testing_report)"
   ]
  },
  {
   "cell_type": "code",
   "execution_count": null,
   "id": "61f3268b",
   "metadata": {},
   "outputs": [],
   "source": [
    "# Create a predictions DataFrame\n",
    "predictions_df = pd.DataFrame(index=X_btc_test.index)\n",
    "\n",
    "predictions_df[\"predicted_signal\"] = testing_signal_predictions\n",
    "\n",
    "predictions_df[\"actual_returns\"] = btc_df[\"actual_returns\"]\n",
    "\n",
    "predictions_df[\"trading_algorithm_returns\"] = (\n",
    "    predictions_df[\"actual_returns\"] * predictions_df[\"predicted_signal\"]\n",
    ")\n",
    "\n",
    "# Review the DataFrame\n",
    "predictions_df.head(30)"
   ]
  },
  {
   "cell_type": "code",
   "execution_count": null,
   "id": "24a64bfb",
   "metadata": {},
   "outputs": [],
   "source": [
    "# Calculate and plot the cumulative returns for the `actual_returns` and the `trading_algorithm_returns`\n",
    "(1 + predictions_df[[\"actual_returns\", \"trading_algorithm_returns\"]]).cumprod().hvplot()"
   ]
  },
  {
   "cell_type": "markdown",
   "id": "5d552544",
   "metadata": {},
   "source": [
    "# Part 2: Neural Network - LSTM Model\n",
    "### Completed by Jonathan Woolsey\n",
    "** **"
   ]
  },
  {
   "cell_type": "code",
   "execution_count": null,
   "id": "9635f899",
   "metadata": {},
   "outputs": [],
   "source": [
    "# Use yfinance to retrieve BTC close values (note that with the current API 1m data can only be done for 7 days, and 1 hour only for 730 days)\n",
    "\n",
    "start = \"2020-10-30\"\n",
    "end = \"2021-09-09\""
   ]
  },
  {
   "cell_type": "code",
   "execution_count": null,
   "id": "a979fd3b",
   "metadata": {},
   "outputs": [],
   "source": [
    "# Use yfinance to retrieve BTC close values\n",
    "btc_df = yf.download(\n",
    "    \"BTC-USD\",\n",
    "    start=start,\n",
    "    end=end,\n",
    "    interval=\"1h\"\n",
    ")\n",
    "\n",
    "btc_df= btc_df.rename(columns=str.lower)\n",
    "btc_df= btc_df.drop(['volume','adj close'], axis=1)\n",
    "\n",
    "btc_df"
   ]
  },
  {
   "cell_type": "code",
   "execution_count": null,
   "id": "e78d8c75",
   "metadata": {},
   "outputs": [],
   "source": [
    "# add some TA\n",
    "sma_short = 20\n",
    "sma_long = 100\n",
    "\n",
    "btc_df[\"SMA20\"] = TA.SMA(btc_df, sma_short)\n",
    "btc_df[\"SMA100\"] = TA.SMA(btc_df, sma_long)\n",
    "btc_df[\"WMA\"] = TA.WMA(btc_df)\n",
    "\n",
    "btc_df.head()"
   ]
  },
  {
   "cell_type": "code",
   "execution_count": null,
   "id": "5fcbd9b8",
   "metadata": {},
   "outputs": [],
   "source": [
    "# Calculate the daily returns using the closing prices and the pct_change function\n",
    "btc_df[\"actual_returns\"] = btc_df[\"close\"].pct_change()\n",
    "btc_df.dropna(inplace=True)\n",
    "\n",
    "# Display sample data\n",
    "display(btc_df.head())\n",
    "display(btc_df.tail())"
   ]
  },
  {
   "cell_type": "code",
   "execution_count": null,
   "id": "b5b923ec",
   "metadata": {},
   "outputs": [],
   "source": [
    "# Create a new column for actual returns signals\n",
    "btc_df['actual returns signal'] = 0.0\n",
    "\n",
    "# When Actual Returns are greater than or equal to 0, generate signal to buy stock long\n",
    "btc_df.loc[(btc_df['actual_returns'] >= 0), 'actual returns signal'] = 1\n",
    "\n",
    "# When Actual Returns are less than 0, generate signal to sell stock short\n",
    "btc_df.loc[(btc_df['actual_returns'] < 0), 'actual returns signal'] = -1\n",
    "\n",
    "btc_df"
   ]
  },
  {
   "cell_type": "code",
   "execution_count": null,
   "id": "be0fe7b0",
   "metadata": {},
   "outputs": [],
   "source": [
    "# Create the features (X) and target (y) sets\n",
    "y = btc_df['actual returns signal'].dropna().copy().replace(-1, 0)\n",
    "display(y.value_counts())\n",
    "\n",
    "X = btc_df[['close','WMA','SMA20','SMA100']].shift().dropna().copy()\n",
    "\n",
    "display(X.head())"
   ]
  },
  {
   "cell_type": "code",
   "execution_count": 3,
   "id": "29b7e25f",
   "metadata": {},
   "outputs": [
    {
     "data": {
      "text/html": [
       "<div>\n",
       "<style scoped>\n",
       "    .dataframe tbody tr th:only-of-type {\n",
       "        vertical-align: middle;\n",
       "    }\n",
       "\n",
       "    .dataframe tbody tr th {\n",
       "        vertical-align: top;\n",
       "    }\n",
       "\n",
       "    .dataframe thead th {\n",
       "        text-align: right;\n",
       "    }\n",
       "</style>\n",
       "<table border=\"1\" class=\"dataframe\">\n",
       "  <thead>\n",
       "    <tr style=\"text-align: right;\">\n",
       "      <th></th>\n",
       "      <th>SNo,Name,Symbol,Date,High,Low,Open,Close,Volume,Marketcap</th>\n",
       "    </tr>\n",
       "  </thead>\n",
       "  <tbody>\n",
       "    <tr>\n",
       "      <th>0</th>\n",
       "      <td>1,Bitcoin,BTC,2013-04-29 23:59:59,147.48800659...</td>\n",
       "    </tr>\n",
       "    <tr>\n",
       "      <th>1</th>\n",
       "      <td>2,Bitcoin,BTC,2013-04-30 23:59:59,146.92999267...</td>\n",
       "    </tr>\n",
       "    <tr>\n",
       "      <th>2</th>\n",
       "      <td>3,Bitcoin,BTC,2013-05-01 23:59:59,139.88999938...</td>\n",
       "    </tr>\n",
       "    <tr>\n",
       "      <th>3</th>\n",
       "      <td>4,Bitcoin,BTC,2013-05-02 23:59:59,125.59999847...</td>\n",
       "    </tr>\n",
       "    <tr>\n",
       "      <th>4</th>\n",
       "      <td>5,Bitcoin,BTC,2013-05-03 23:59:59,108.12799835...</td>\n",
       "    </tr>\n",
       "  </tbody>\n",
       "</table>\n",
       "</div>"
      ],
      "text/plain": [
       "  SNo,Name,Symbol,Date,High,Low,Open,Close,Volume,Marketcap\n",
       "0  1,Bitcoin,BTC,2013-04-29 23:59:59,147.48800659...       \n",
       "1  2,Bitcoin,BTC,2013-04-30 23:59:59,146.92999267...       \n",
       "2  3,Bitcoin,BTC,2013-05-01 23:59:59,139.88999938...       \n",
       "3  4,Bitcoin,BTC,2013-05-02 23:59:59,125.59999847...       \n",
       "4  5,Bitcoin,BTC,2013-05-03 23:59:59,108.12799835...       "
      ]
     },
     "execution_count": 3,
     "metadata": {},
     "output_type": "execute_result"
    }
   ],
   "source": [
    "# Select the start of the training period\n",
    "training_begin = X.index.min()\n",
    "training_period_months = 6\n",
    "training_end = X.index.min() + DateOffset(months=training_period_months)\n",
    "\n",
    "# Display the training begin / end dates\n",
    "print(training_begin)\n",
    "print(training_end)"
   ]
  },
  {
   "cell_type": "code",
   "execution_count": null,
   "id": "52874fc2",
   "metadata": {},
   "outputs": [],
   "source": [
    "# Generate the X_train and y_train DataFrames\n",
    "X_train = X.loc[training_begin:training_end]\n",
    "y_train = y.loc[training_begin:training_end]\n",
    "\n",
    "# Review the X_train DataFrame\n",
    "X_train.head()\n",
    "X_train.tail()"
   ]
  },
  {
   "cell_type": "code",
   "execution_count": null,
   "id": "3088c911",
   "metadata": {},
   "outputs": [],
   "source": [
    "# Generate the X_test and y_test DataFrames\n",
    "X_test = X.loc[training_end+DateOffset(hours=1):]\n",
    "y_test = y.loc[training_end+DateOffset(hours=1):]\n",
    "\n",
    "# Review the X_test DataFrame\n",
    "X_test.head()"
   ]
  },
  {
   "cell_type": "code",
   "execution_count": null,
   "id": "17f5f2a4",
   "metadata": {},
   "outputs": [],
   "source": [
    "# Scale the features DataFrames\n",
    "\n",
    "# Create a StandardScaler instance\n",
    "scaler = StandardScaler()\n",
    "\n",
    "# Apply the scaler model to fit the X-train data\n",
    "X_scaler = scaler.fit(X_train)\n",
    "\n",
    "# Transform the X_train and X_test DataFrames using the X_scaler\n",
    "X_train_scaled = X_scaler.transform(X_train)\n",
    "X_test_scaled = X_scaler.transform(X_test)"
   ]
  },
  {
   "cell_type": "code",
   "execution_count": null,
   "id": "6c3e2e39",
   "metadata": {},
   "outputs": [],
   "source": [
    "# Define the model\n",
    "number_output_neurons = 1\n",
    "number_input_features = X.shape[1]\n",
    "\n",
    "hidden_nodes_layer1 = math.floor((number_input_features + number_output_neurons) / 2)\n",
    "hidden_nodes_layer2 = math.floor((hidden_nodes_layer1 + number_output_neurons) / 2)\n",
    "\n",
    "X_train_reshaped = np.reshape(X_train_scaled, (X_train_scaled.shape[0], 1, X_train_scaled.shape[1]))\n",
    "X_test_reshaped = np.reshape(X_test_scaled, (X_test_scaled.shape[0], 1, X_test_scaled.shape[1]))"
   ]
  },
  {
   "cell_type": "code",
   "execution_count": null,
   "id": "733dc3b2",
   "metadata": {},
   "outputs": [],
   "source": [
    "nn = Sequential()\n",
    "\n",
    "nn.add(LSTM(4, input_shape=(1, number_input_features), return_sequences=True))\n",
    "nn.add(Flatten())\n",
    "\n",
    "# First hidden layer\n",
    "nn.add(Dense(units=hidden_nodes_layer1, activation=\"relu\"))\n",
    "# Second hidden layer\n",
    "# nn.add(Dense(units=hidden_nodes_layer2, activation=\"relu\"))\n",
    "\n",
    "# Output layer\n",
    "nn.add(Dense(units=1, activation=\"sigmoid\"))"
   ]
  },
  {
   "cell_type": "code",
   "execution_count": null,
   "id": "77a76174",
   "metadata": {},
   "outputs": [],
   "source": [
    "# Compile model\n",
    "nn.compile(loss=\"binary_crossentropy\", optimizer=\"adam\", metrics=[\"accuracy\"])\n",
    "\n",
    "# Fit the model\n",
    "model = nn.fit(X_train_reshaped, y_train, epochs=100)"
   ]
  },
  {
   "cell_type": "code",
   "execution_count": null,
   "id": "c6d307f5",
   "metadata": {},
   "outputs": [],
   "source": [
    "# Evaluate the model loss and accuracy metrics using the evaluate method and the test data\n",
    "model_loss, model_accuracy = nn.evaluate(X_test_reshaped, y_test, verbose=2)\n",
    "\n",
    "# Display the model loss and accuracy results\n",
    "print(f\"Loss: {model_loss}, Accuracy: {model_accuracy}\")"
   ]
  },
  {
   "cell_type": "code",
   "execution_count": null,
   "id": "8c484608",
   "metadata": {},
   "outputs": [],
   "source": [
    "# Save model as JSON - model will be backtested\n",
    "if not os.path.exists('Models'):\n",
    "  os.makedirs('Models')\n",
    "\n",
    "def save_model_weights(nn, name):\n",
    "  nn_json = nn.to_json()\n",
    "  file_path = Path(f\"Models/{name}.json\")\n",
    "  with open(file_path, \"w\") as json_file:\n",
    "    json_file.write(nn_json)\n",
    "  nn.save_weights(f\"Models/{name}.h5\")\n",
    "\n",
    "def load_model_weights(name):\n",
    "  file_path = Path(f\"Models/{name}.json\")\n",
    "  with open(file_path, \"r\") as json_file:\n",
    "      model_json = json_file.read()\n",
    "  loaded_model = model_from_json(model_json)\n",
    "  loaded_model.load_weights(f\"Models/{name}.h5\")\n",
    "  return loaded_model\n",
    "\n",
    "save_model_weights(nn, 'model')\n",
    "\n",
    "nn_loaded = load_model_weights('model')"
   ]
  },
  {
   "cell_type": "code",
   "execution_count": null,
   "id": "9bd28d0a",
   "metadata": {},
   "outputs": [],
   "source": [
    "# Create a predictions DataFrame\n",
    "predictions = nn_loaded.predict(X_test_reshaped)\n",
    "\n",
    "predictions_df = pd.DataFrame(index=X_test.index)\n",
    "\n",
    "predictions_df[\"predicted_signal\"] = np.where(predictions > 0.5, 1, -1 )\n",
    "\n",
    "predictions_df[\"actual_returns\"] = btc_df[\"actual_returns\"]\n",
    "\n",
    "predictions_df[\"trading_algorithm_returns\"] = (\n",
    "    predictions_df[\"actual_returns\"] * predictions_df[\"predicted_signal\"]\n",
    ")\n",
    "\n",
    "# Review the DataFrame\n",
    "display(predictions_df[\"predicted_signal\"].value_counts())\n",
    "predictions_df.head()"
   ]
  },
  {
   "cell_type": "code",
   "execution_count": null,
   "id": "02e82328",
   "metadata": {},
   "outputs": [],
   "source": [
    "hv.extension('bokeh')\n",
    "# Calculate and plot the cumulative returns for the `actual_returns` and the `trading_algorithm_returns`\n",
    "(1 + predictions_df[[\"actual_returns\", \"trading_algorithm_returns\"]]).cumprod().hvplot()"
   ]
  },
  {
   "cell_type": "markdown",
   "id": "30025b87",
   "metadata": {},
   "source": [
    "# Part 3: Backtesting SVM Model and LSTM Model \n",
    "### Completed by Jasmine Tengsico\n",
    "** ** "
   ]
  },
  {
   "cell_type": "code",
   "execution_count": null,
   "id": "75cbda46",
   "metadata": {},
   "outputs": [],
   "source": [
    "#backtesting the SVM model "
   ]
  },
  {
   "cell_type": "code",
   "execution_count": null,
   "id": "52df04de",
   "metadata": {},
   "outputs": [],
   "source": []
  },
  {
   "cell_type": "markdown",
   "id": "169399a5",
   "metadata": {},
   "source": []
  },
  {
   "cell_type": "code",
   "execution_count": null,
   "id": "bbb1374e",
   "metadata": {},
   "outputs": [],
   "source": []
  },
  {
   "cell_type": "code",
   "execution_count": null,
   "id": "c6cbad3e",
   "metadata": {},
   "outputs": [],
   "source": []
  },
  {
   "cell_type": "code",
   "execution_count": null,
   "id": "0fdb02c9",
   "metadata": {},
   "outputs": [],
   "source": [
    "#backtesting the LSTM Model "
   ]
  },
  {
   "cell_type": "code",
   "execution_count": null,
   "id": "004b827f",
   "metadata": {},
   "outputs": [],
   "source": [
    "#to be edited\n",
    "#Reading saved model from JSON file\n",
    "with open('fashionmnist_model.json', 'r') as json_file:\n",
    "    json_savedModel= json_file.read()#load the model architecture \n",
    "model_j = tf.keras.models.model_from_json(json_savedModel)\n",
    "model_j.summary()"
   ]
  },
  {
   "cell_type": "markdown",
   "id": "52669760",
   "metadata": {},
   "source": []
  },
  {
   "cell_type": "code",
   "execution_count": null,
   "id": "33d73233",
   "metadata": {},
   "outputs": [],
   "source": []
  },
  {
   "cell_type": "code",
   "execution_count": null,
   "id": "80fb2265",
   "metadata": {},
   "outputs": [],
   "source": []
  },
  {
   "cell_type": "markdown",
   "id": "18b98721",
   "metadata": {},
   "source": []
  },
  {
   "cell_type": "code",
   "execution_count": null,
   "id": "7a7234b5",
   "metadata": {},
   "outputs": [],
   "source": []
  }
 ],
 "metadata": {
  "kernelspec": {
   "display_name": "Python (dev)",
   "language": "python",
   "name": "dev"
  },
  "language_info": {
   "codemirror_mode": {
    "name": "ipython",
    "version": 3
   },
   "file_extension": ".py",
   "mimetype": "text/x-python",
   "name": "python",
   "nbconvert_exporter": "python",
   "pygments_lexer": "ipython3",
   "version": "3.7.10"
  }
 },
 "nbformat": 4,
 "nbformat_minor": 5
}
